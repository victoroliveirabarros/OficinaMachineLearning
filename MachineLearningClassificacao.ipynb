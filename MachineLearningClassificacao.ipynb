{
 "cells": [
  {
   "cell_type": "code",
   "execution_count": 1,
   "metadata": {},
   "outputs": [],
   "source": [
    "# Numpy como dependência do Scikit-learn e Pandas\n",
    "# Scikit-learn para os algoritmos de ML e funções cômodas\n",
    "# Pandas para visualização e manipulação rápida e fácil de dados\n",
    "import sklearn\n",
    "import numpy as np\n",
    "import pandas as pd"
   ]
  },
  {
   "cell_type": "code",
   "execution_count": 6,
   "metadata": {},
   "outputs": [],
   "source": [
    "#criando dataset\n",
    "animal1 = [1, 1, 1]\n",
    "animal2 = [1, 0, 1]\n",
    "animal3 = [0, 1, 1]\n",
    "animal4 = [1, 1, 0]\n",
    "animal5 = [0, 1, 0]\n",
    "animal6 = [0, 1, 0]\n",
    "\n",
    "#armazenando os dados em uma variável\n",
    "dados = [animal1, animal2, animal3, animal4, animal5, animal6]\n",
    "\n",
    "#definição dos animais (Gato = 1; Cachorro = -1)\n",
    "definicoes = [1, 1, 1, -1, -1, -1]"
   ]
  },
  {
   "cell_type": "code",
   "execution_count": 2,
   "metadata": {},
   "outputs": [
    {
     "ename": "NameError",
     "evalue": "name 'dados' is not defined",
     "output_type": "error",
     "traceback": [
      "\u001b[1;31m---------------------------------------------------------------------------\u001b[0m",
      "\u001b[1;31mNameError\u001b[0m                                 Traceback (most recent call last)",
      "\u001b[1;32m<ipython-input-2-4521f076b0b0>\u001b[0m in \u001b[0;36m<module>\u001b[1;34m\u001b[0m\n\u001b[0;32m      3\u001b[0m \u001b[1;33m\u001b[0m\u001b[0m\n\u001b[0;32m      4\u001b[0m \u001b[0mmodelo\u001b[0m \u001b[1;33m=\u001b[0m \u001b[0mMultinomialNB\u001b[0m\u001b[1;33m(\u001b[0m\u001b[1;33m)\u001b[0m\u001b[1;33m\u001b[0m\u001b[1;33m\u001b[0m\u001b[0m\n\u001b[1;32m----> 5\u001b[1;33m \u001b[0mmodelo\u001b[0m\u001b[1;33m.\u001b[0m\u001b[0mfit\u001b[0m\u001b[1;33m(\u001b[0m\u001b[0mdados\u001b[0m\u001b[1;33m,\u001b[0m \u001b[0mdefinicoes\u001b[0m\u001b[1;33m)\u001b[0m\u001b[1;33m\u001b[0m\u001b[1;33m\u001b[0m\u001b[0m\n\u001b[0m",
      "\u001b[1;31mNameError\u001b[0m: name 'dados' is not defined"
     ]
    }
   ],
   "source": [
    "#Naive Bayes - Teorema de probabilidade de Bayes. Calcula a probablidade de uma amostra desconhecida pertença a uma classe definida.\n",
    "from sklearn.naive_bayes import MultinomialNB\n",
    "\n",
    "modelo = MultinomialNB()\n",
    "modelo.fit(dados, definicoes)\n"
   ]
  },
  {
   "cell_type": "code",
   "execution_count": 11,
   "metadata": {
    "scrolled": true
   },
   "outputs": [
    {
     "name": "stdout",
     "output_type": "stream",
     "text": [
      "Resultado: \n",
      "[1 1 1]\n",
      "\n",
      "Gabarito: \n",
      "[1, -1, 1]\n"
     ]
    }
   ],
   "source": [
    "animal_desconhecido1 = [1, 1, 1]\n",
    "animal_desconhecido2 = [1, 0, 0]\n",
    "animal_desconhecido3 = [0, 0, 1]\n",
    "\n",
    "teste = [animal_desconhecido1, animal_desconhecido2, animal_desconhecido3]\n",
    "\n",
    "result = modelo.predict(teste)\n",
    "\n",
    "#gabarito dos animais misteriosos\n",
    "gabarito = [1,-1, 1]\n",
    "\n",
    "print(\"Resultado: \")\n",
    "print(result)\n",
    "\n",
    "print(\"\\nGabarito: \")\n",
    "print(gabarito)"
   ]
  },
  {
   "cell_type": "code",
   "execution_count": null,
   "metadata": {},
   "outputs": [],
   "source": []
  },
  {
   "cell_type": "code",
   "execution_count": null,
   "metadata": {},
   "outputs": [],
   "source": []
  }
 ],
 "metadata": {
  "kernelspec": {
   "display_name": "Python 3",
   "language": "python",
   "name": "python3"
  },
  "language_info": {
   "codemirror_mode": {
    "name": "ipython",
    "version": 3
   },
   "file_extension": ".py",
   "mimetype": "text/x-python",
   "name": "python",
   "nbconvert_exporter": "python",
   "pygments_lexer": "ipython3",
   "version": "3.7.3"
  }
 },
 "nbformat": 4,
 "nbformat_minor": 2
}
