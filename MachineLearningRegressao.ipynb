{
 "cells": [
  {
   "cell_type": "code",
   "execution_count": 1,
   "metadata": {},
   "outputs": [],
   "source": [
    "# Numpy como dependência do Scikit-learn e Pandas\n",
    "# Scikit-learn para os algoritmos de ML e funções cômodas\n",
    "# Pandas para visualização e manipulação rápida e fácil de dados\n",
    "import sklearn\n",
    "import numpy as np\n",
    "import pandas as pd\n",
    "import sklearn.datasets as datasets\n",
    "from sklearn.model_selection import train_test_split\n",
    "from sklearn.linear_model import LinearRegression #modelo"
   ]
  },
  {
   "cell_type": "code",
   "execution_count": 2,
   "metadata": {},
   "outputs": [
    {
     "name": "stdout",
     "output_type": "stream",
     "text": [
      "Variacao no treino: 0.74\n",
      "Variacao no teste: 0.73\n"
     ]
    }
   ],
   "source": [
    "#carrega os dados\n",
    "imovel = datasets.load_boston()\n",
    "X = imovel['data']\n",
    "y = imovel['target']\n",
    "\n",
    "#realiza a sepáração dos dados para teste e treino\n",
    "X_train, X_test, y_train, y_test = train_test_split(X, y, test_size=0.33, random_state=42)\n",
    "\n",
    "regressao = LinearRegression() #criação do modelo\n",
    "regressao.fit(X_train, y_train) #treino\n",
    "\n",
    "#Calcula a taxa de variação\n",
    "r2_train = regressao.score(X_train, y_train)\n",
    "r2_test = regressao.score(X_test, y_test)\n",
    "\n",
    "\n",
    "print('Variacao no treino: %.2f' % r2_train)\n",
    "print('Variacao no teste: %.2f' % r2_test)"
   ]
  },
  {
   "cell_type": "code",
   "execution_count": null,
   "metadata": {},
   "outputs": [],
   "source": []
  }
 ],
 "metadata": {
  "kernelspec": {
   "display_name": "Python 3",
   "language": "python",
   "name": "python3"
  },
  "language_info": {
   "codemirror_mode": {
    "name": "ipython",
    "version": 3
   },
   "file_extension": ".py",
   "mimetype": "text/x-python",
   "name": "python",
   "nbconvert_exporter": "python",
   "pygments_lexer": "ipython3",
   "version": "3.7.3"
  }
 },
 "nbformat": 4,
 "nbformat_minor": 2
}
